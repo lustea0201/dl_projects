{
 "cells": [
  {
   "cell_type": "code",
   "execution_count": 6,
   "id": "deb25d98",
   "metadata": {},
   "outputs": [],
   "source": [
    "import torch.nn as nn\n",
    "from torch.nn import functional as F\n",
    "import torch\n",
    "from models.digit_classifier import DigitClassifier\n",
    "from utils import accuracy\n",
    "from utils import train_model_double_objective\n",
    "from importlib import reload\n",
    "from models.net3 import Net3"
   ]
  },
  {
   "cell_type": "code",
   "execution_count": 9,
   "id": "3ee9a140",
   "metadata": {},
   "outputs": [],
   "source": [
    "from dlc_practical_prologue import generate_pair_sets\n",
    "\n",
    "nSamples = 1000\n",
    "data = generate_pair_sets(nSamples)\n",
    "var_names = [\"train_input\", \"train_target\", \"train_classes\", \"test_input\", \"test_target\", \"test_classes\"]\n",
    "train_input, train_target, train_classes, test_input, test_target, test_classes = data\n",
    "stringWidth = 20"
   ]
  },
  {
   "cell_type": "code",
   "execution_count": 10,
   "id": "88185f6d",
   "metadata": {},
   "outputs": [
    {
     "name": "stdout",
     "output_type": "stream",
     "text": [
      "Epoch 0: loss 62.336 / train accuracy 52.1%, test accuracy 54.5\n",
      "Epoch 1: loss 44.261 / train accuracy 56.4%, test accuracy 54.4\n",
      "Epoch 2: loss 32.371 / train accuracy 63.4%, test accuracy 64.6\n",
      "Epoch 3: loss 23.405 / train accuracy 78.1%, test accuracy 76.0\n",
      "Epoch 4: loss 17.707 / train accuracy 79.8%, test accuracy 78.7\n",
      "Epoch 5: loss 13.399 / train accuracy 84.5%, test accuracy 80.6\n",
      "Epoch 6: loss 10.236 / train accuracy 86.2%, test accuracy 82.6\n",
      "Epoch 7: loss 8.802 / train accuracy 88.5%, test accuracy 83.8\n",
      "Epoch 8: loss 7.241 / train accuracy 89.3%, test accuracy 84.4\n",
      "Epoch 9: loss 6.296 / train accuracy 89.0%, test accuracy 83.7\n"
     ]
    }
   ],
   "source": [
    "model = Net3(nb_residual_blocks = 20,c1 = 32, c2 = 32, c3 = 64, h = 100, p = 0.3, hidden_channel_1 = 1, hidden_channel_2 = 10)\n",
    "criterion = nn.BCEWithLogitsLoss()\n",
    "criterion2 = nn.CrossEntropyLoss()\n",
    "eta = 1e-3\n",
    "mini_batch_size = 100\n",
    "optimizer = torch.optim.Adam(model.parameters(), lr = eta)\n",
    "nb_epochs = 10\n",
    "\n",
    "train_model_double_objective(model, train_input, train_target, \n",
    "                             train_classes, test_input, test_target, test_classes, \n",
    "                             nb_epochs, mini_batch_size, optimizer, criterion, criterion2, \n",
    "                             beta = 1, verbose = True)"
   ]
  },
  {
   "cell_type": "code",
   "execution_count": 4,
   "id": "336af53e",
   "metadata": {},
   "outputs": [
    {
     "name": "stdout",
     "output_type": "stream",
     "text": [
      "Accuracy: 92.10\n"
     ]
    }
   ],
   "source": [
    "from utils import accuracy_of_digit_class\n",
    "print(\"Accuracy: {:.2f}\".format(accuracy_of_digit_class(model, test_input, test_classes)))"
   ]
  },
  {
   "cell_type": "code",
   "execution_count": 5,
   "id": "867f256c",
   "metadata": {},
   "outputs": [
    {
     "name": "stdout",
     "output_type": "stream",
     "text": [
      "The model has 29605 trainable parameters\n"
     ]
    }
   ],
   "source": [
    "nParams = sum(p.numel() for p in model.parameters() if p.requires_grad)\n",
    "print('The model has {:d} trainable parameters'.format(nParams))"
   ]
  }
 ],
 "metadata": {
  "kernelspec": {
   "display_name": "Python 3",
   "language": "python",
   "name": "python3"
  },
  "language_info": {
   "codemirror_mode": {
    "name": "ipython",
    "version": 3
   },
   "file_extension": ".py",
   "mimetype": "text/x-python",
   "name": "python",
   "nbconvert_exporter": "python",
   "pygments_lexer": "ipython3",
   "version": "3.8.5"
  }
 },
 "nbformat": 4,
 "nbformat_minor": 5
}
