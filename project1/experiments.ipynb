{
 "cells": [
  {
   "cell_type": "code",
   "execution_count": 1,
   "metadata": {},
   "outputs": [
    {
     "name": "stdout",
     "output_type": "stream",
     "text": [
      "train_input            1000 x 2 x 14 x 14   dtype               \n",
      "train_target                  1000          dtype               \n",
      "train_classes               1000 x 2        dtype               \n",
      "test_input             1000 x 2 x 14 x 14   dtype               \n",
      "test_target                   1000          dtype               \n",
      "test_classes                1000 x 2        dtype               \n"
     ]
    }
   ],
   "source": [
    "from dlc_practical_prologue import generate_pair_sets\n",
    "\n",
    "nSamples = 1000\n",
    "data = generate_pair_sets(nSamples)\n",
    "var_names = [\"train_input\", \"train_target\", \"train_classes\", \"test_input\", \"test_target\", \"test_classes\"]\n",
    "train_input, train_target, train_classes, test_input, test_target, test_classes = data\n",
    "stringWidth = 20\n",
    "for i, el in enumerate(list(map(lambda x: (x.shape, x.dtype), data))):\n",
    "    print('{:s}  {:s}  {:s}'.format(\n",
    "        var_names[i].ljust(stringWidth),\n",
    "        ' x '.join(list(map(lambda x: str(x), list(el[0])))).center(stringWidth), \n",
    "        'dtype'.ljust(stringWidth)))"
   ]
  },
  {
   "cell_type": "code",
   "execution_count": 2,
   "metadata": {},
   "outputs": [
    {
     "data": {
      "image/png": "[encoded data removed]",
      "text/plain": [
       "<Figure size 864x288 with 1 Axes>"
      ]
     },
     "metadata": {
      "needs_background": "light"
     },
     "output_type": "display_data"
    }
   ],
   "source": [
    "from utils import show_pair\n",
    "\n",
    "show_pair(train_input, train_target, 0)"
   ]
  },
  {
   "cell_type": "markdown",
   "metadata": {},
   "source": [
    "## Without using the information from the classes"
   ]
  },
  {
   "cell_type": "code",
   "execution_count": 55,
   "metadata": {},
   "outputs": [],
   "source": [
    "import torch.nn as nn\n",
    "from torch.nn import functional as F\n",
    "import torch\n",
    "\n",
    "class Net(nn.Module):\n",
    "    def __init__(self, h1, h2):\n",
    "        super().__init__()\n",
    "        self.conv1 = nn.Conv2d(1, 32, kernel_size=3)\n",
    "        self.conv2 = nn.Conv2d(32, 32, kernel_size=3)\n",
    "        self.conv3 = nn.Conv2d(32, 64, kernel_size=2)\n",
    "        self.fc1 = nn.Linear(64, h1)\n",
    "        self.fc2 = nn.Linear(h1, h2)\n",
    "        self.fc3 = nn.Linear(2*h2, 1)\n",
    "        self.drop = nn.Dropout(p=0.3)\n",
    "        \n",
    "    def element_forward(self, x):\n",
    "        x = F.relu(F.max_pool2d(self.conv1(x), kernel_size=2))\n",
    "        x = F.relu(F.max_pool2d(self.conv2(x), kernel_size=2))\n",
    "        x = F.relu(self.conv3(x))\n",
    "        x = F.relu(self.fc1(x.view(-1, 64)))\n",
    "        x = self.drop(x)\n",
    "        x = self.fc2(x)\n",
    "        \n",
    "        return x \n",
    "\n",
    "    def forward(self, x):\n",
    "        x1 = x[:, 0, :, :].unsqueeze(axis = 1)\n",
    "        x2 = x[:, 1, :, :].unsqueeze(axis = 1)\n",
    "        \n",
    "    \n",
    "        x1 = self.element_forward(x1)\n",
    "        x2 = self.element_forward(x2)\n",
    "        \n",
    "        # I'd like to do (x1 <= x2).float().squeeze(), but then loss.backward() doesn't work\n",
    "        x = torch.cat([x1, x2], axis = 1)\n",
    "        x = self.fc3(x).squeeze()\n",
    "        \n",
    "        \n",
    "        return x\n",
    "    \n",
    "def accuracy(model, input_, target, mini_batch_size):\n",
    "    nb_errors = 0\n",
    "    for i in range(0, input_.size(0), mini_batch_size):\n",
    "        output = model(input_.narrow(0, i, mini_batch_size))\n",
    "        if output.isnan().sum():\n",
    "            print('NANS')\n",
    "            \n",
    "        pred = (output > 0).long()\n",
    "        gt = target.narrow(0, i, mini_batch_size)\n",
    "        nb_errors += (pred != gt).sum().item()\n",
    "    N = input_.shape[0]\n",
    "    return 100*(N-nb_errors)/N\n",
    "\n",
    "\n",
    "\n",
    "def train_model(model, train_input, train_target, mini_batch_size, optimizer, verbose = True):\n",
    "    for e in range(nb_epochs):\n",
    "        epoch_loss = 0\n",
    "        for b in range(0, train_input.size(0), mini_batch_size):\n",
    "            input_ = train_input.narrow(0, b, mini_batch_size)\n",
    "            output = model(input_)\n",
    "            loss = criterion(output, train_target.narrow(0, b, mini_batch_size))\n",
    "            epoch_loss += loss.item()\n",
    "\n",
    "            model.zero_grad()\n",
    "            \n",
    "            loss.backward()\n",
    "            optimizer.step()\n",
    "                    \n",
    "        train_acc = accuracy(model, train_input, train_target, mini_batch_size)\n",
    "        test_acc = accuracy(model, test_input, test_target, mini_batch_size)\n",
    "        \n",
    "        if verbose:\n",
    "            print('Epoch {:d}: loss {:.3f} / train accuracy {:.1f}%, test accuracy {:.1f}'.format(\n",
    "                e, epoch_loss, train_acc, test_acc))"
   ]
  },
  {
   "cell_type": "code",
   "execution_count": 59,
   "metadata": {},
   "outputs": [
    {
     "name": "stdout",
     "output_type": "stream",
     "text": [
      "Epoch 0: loss 54.451 / train accuracy 81.4%, test accuracy 80.5\n",
      "Epoch 1: loss 36.914 / train accuracy 85.5%, test accuracy 81.2\n",
      "Epoch 2: loss 34.554 / train accuracy 83.5%, test accuracy 81.1\n",
      "Epoch 3: loss 31.035 / train accuracy 89.6%, test accuracy 84.4\n",
      "Epoch 4: loss 23.547 / train accuracy 87.7%, test accuracy 82.6\n",
      "Epoch 5: loss 21.905 / train accuracy 95.2%, test accuracy 82.8\n",
      "Epoch 6: loss 17.663 / train accuracy 95.7%, test accuracy 84.8\n",
      "Epoch 7: loss 14.333 / train accuracy 94.0%, test accuracy 83.8\n",
      "Epoch 8: loss 12.804 / train accuracy 96.2%, test accuracy 83.0\n",
      "Epoch 9: loss 9.355 / train accuracy 97.1%, test accuracy 84.2\n"
     ]
    }
   ],
   "source": [
    "model = Net(200, 10)\n",
    "criterion = nn.BCEWithLogitsLoss()\n",
    "eta = 1e-3\n",
    "mini_batch_size = 10\n",
    "optimizer = torch.optim.Adam(model.parameters(), lr = eta)\n",
    "nb_epochs = 10\n",
    "\n",
    "\n",
    "        \n",
    "train_model(model, train_input, train_target.float(), mini_batch_size, optimizer)"
   ]
  },
  {
   "cell_type": "code",
   "execution_count": 61,
   "metadata": {},
   "outputs": [
    {
     "name": "stdout",
     "output_type": "stream",
     "text": [
      "The model has 32855 trainable parameters\n"
     ]
    }
   ],
   "source": [
    "nParams = sum(p.numel() for p in model.parameters() if p.requires_grad)\n",
    "print('The model has {:d} trainable parameters'.format(nParams))"
   ]
  },
  {
   "cell_type": "code",
   "execution_count": 62,
   "metadata": {},
   "outputs": [
    {
     "data": {
      "image/png": "[encoded data removed]",
      "text/plain": [
       "<Figure size 864x288 with 1 Axes>"
      ]
     },
     "metadata": {
      "needs_background": "light"
     },
     "output_type": "display_data"
    }
   ],
   "source": [
    "predictions = model(test_input)\n",
    "show_pair(test_input, predictions, 10)"
   ]
  }
 ],
 "metadata": {
  "kernelspec": {
   "display_name": "Python 3",
   "language": "python",
   "name": "python3"
  },
  "language_info": {
   "codemirror_mode": {
    "name": "ipython",
    "version": 3
   },
   "file_extension": ".py",
   "mimetype": "text/x-python",
   "name": "python",
   "nbconvert_exporter": "python",
   "pygments_lexer": "ipython3",
   "version": "3.8.8"
  }
 },
 "nbformat": 4,
 "nbformat_minor": 4
}
