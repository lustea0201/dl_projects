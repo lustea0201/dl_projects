{
  "nbformat": 4,
  "nbformat_minor": 0,
  "metadata": {
    "colab": {
      "name": "experiments.ipynb",
      "provenance": [],
      "toc_visible": true
    },
    "kernelspec": {
      "display_name": "Python 3",
      "language": "python",
      "name": "python3"
    },
    "language_info": {
      "codemirror_mode": {
        "name": "ipython",
        "version": 3
      },
      "file_extension": ".py",
      "mimetype": "text/x-python",
      "name": "python",
      "nbconvert_exporter": "python",
      "pygments_lexer": "ipython3",
      "version": "3.8.5"
    }
  },
  "cells": [
    {
      "cell_type": "code",
      "metadata": {
        "colab": {
          "base_uri": "https://localhost:8080/"
        },
        "id": "KFH2Hkok1-eP",
        "outputId": "f5758313-597d-4af2-f742-f6bc42b56393"
      },
      "source": [
        "from dlc_practical_prologue import generate_pair_sets\n",
        "\n",
        "nSamples = 1000\n",
        "data = generate_pair_sets(nSamples)\n",
        "var_names = [\"train_input\", \"train_target\", \"train_classes\", \"test_input\", \"test_target\", \"test_classes\"]\n",
        "train_input, train_target, train_classes, test_input, test_target, test_classes = data\n",
        "stringWidth = 20\n",
        "for i, el in enumerate(list(map(lambda x: (x.shape, x.dtype), data))):\n",
        "    print('{:s}  {:s}  {:s}'.format(\n",
        "        var_names[i].ljust(stringWidth),\n",
        "        ' x '.join(list(map(lambda x: str(x), list(el[0])))).center(stringWidth), \n",
        "        'dtype'.ljust(stringWidth)))"
      ],
      "execution_count": 1,
      "outputs": [
        {
          "output_type": "stream",
          "text": [
            "train_input            1000 x 2 x 14 x 14   dtype               \n",
            "train_target                  1000          dtype               \n",
            "train_classes               1000 x 2        dtype               \n",
            "test_input             1000 x 2 x 14 x 14   dtype               \n",
            "test_target                   1000          dtype               \n",
            "test_classes                1000 x 2        dtype               \n"
          ],
          "name": "stdout"
        }
      ]
    },
    {
      "cell_type": "code",
      "metadata": {
        "colab": {
          "base_uri": "https://localhost:8080/",
          "height": 248
        },
        "id": "2hJioqTe1-ei",
        "outputId": "5c54e86f-929d-4f91-d9ca-ba3c5e0d7858"
      },
      "source": [
        "from utils import show_pair\n",
        "\n",
        "show_pair(train_input, train_target, 0)"
      ],
      "execution_count": null,
      "outputs": [
        {
          "output_type": "display_data",
          "data": {
            "image/png": "[encoded data removed]",
            "text/plain": [
              "<Figure size 864x288 with 1 Axes>"
            ]
          },
          "metadata": {
            "tags": [],
            "needs_background": "light"
          }
        }
      ]
    },
    {
      "cell_type": "markdown",
      "metadata": {
        "id": "2s1fno_F1-ej"
      },
      "source": [
        "## Without using the information from the classes"
      ]
    },
    {
      "cell_type": "code",
      "metadata": {
        "colab": {
          "base_uri": "https://localhost:8080/"
        },
        "id": "9Zz45wRp1-ej",
        "outputId": "bb6abc35-3aa8-4585-e8ca-3b64b2f62b9a"
      },
      "source": [
        "from utils import train_model\n",
        "from models.net1 import Net1\n",
        "import torch\n",
        "import torch.nn as nn\n",
        "\n",
        "model = Net1(50)\n",
        "criterion = nn.BCEWithLogitsLoss()\n",
        "eta = 1e-3\n",
        "mini_batch_size = 100\n",
        "optimizer = torch.optim.Adam(model.parameters(), lr = eta)\n",
        "nb_epochs = 10\n",
        "\n",
        "\n",
        "        \n",
        "train_model(model, train_input, train_target.float(), test_input, test_target, nb_epochs, mini_batch_size, optimizer, criterion)"
      ],
      "execution_count": 2,
      "outputs": [
        {
          "output_type": "stream",
          "text": [
            "Epoch 0: loss 9.317 / train accuracy 74.5%, test accuracy 75.5\n",
            "Epoch 1: loss 4.873 / train accuracy 78.9%, test accuracy 78.0\n",
            "Epoch 2: loss 4.170 / train accuracy 82.6%, test accuracy 78.0\n",
            "Epoch 3: loss 3.820 / train accuracy 84.7%, test accuracy 81.2\n",
            "Epoch 4: loss 3.156 / train accuracy 87.1%, test accuracy 81.2\n",
            "Epoch 5: loss 2.783 / train accuracy 89.8%, test accuracy 83.3\n",
            "Epoch 6: loss 2.465 / train accuracy 90.2%, test accuracy 83.2\n",
            "Epoch 7: loss 2.307 / train accuracy 90.8%, test accuracy 84.0\n",
            "Epoch 8: loss 2.193 / train accuracy 93.5%, test accuracy 83.4\n",
            "Epoch 9: loss 1.794 / train accuracy 92.9%, test accuracy 82.7\n"
          ],
          "name": "stdout"
        }
      ]
    },
    {
      "cell_type": "code",
      "metadata": {
        "colab": {
          "base_uri": "https://localhost:8080/"
        },
        "id": "hkd0lSkC1-ek",
        "outputId": "c42a34ef-95a5-4bb3-d90c-22f3d03935a4"
      },
      "source": [
        "nParams = sum(p.numel() for p in model.parameters() if p.requires_grad)\n",
        "print('The model has {:d} trainable parameters'.format(nParams))"
      ],
      "execution_count": 3,
      "outputs": [
        {
          "output_type": "stream",
          "text": [
            "The model has 29789 trainable parameters\n"
          ],
          "name": "stdout"
        }
      ]
    },
    {
      "cell_type": "code",
      "metadata": {
        "colab": {
          "base_uri": "https://localhost:8080/",
          "height": 248
        },
        "id": "yuZbYatM1-ek",
        "outputId": "862b1d5a-7a4c-401c-d779-904322e0c482"
      },
      "source": [
        "predictions = model(test_input)\n",
        "show_pair(test_input, predictions, 10)"
      ],
      "execution_count": null,
      "outputs": [
        {
          "output_type": "display_data",
          "data": {
            "image/png": "[encoded data removed]",
            "text/plain": [
              "<Figure size 864x288 with 1 Axes>"
            ]
          },
          "metadata": {
            "tags": [],
            "needs_background": "light"
          }
        }
      ]
    },
    {
      "cell_type": "markdown",
      "metadata": {
        "id": "fhzU9IT31-el"
      },
      "source": [
        "## With class information during training"
      ]
    },
    {
      "cell_type": "code",
      "metadata": {
        "colab": {
          "base_uri": "https://localhost:8080/"
        },
        "id": "Z93tYxwS1-el",
        "outputId": "ea08738c-a1c1-4be7-d173-135d3cd38e40"
      },
      "source": [
        "from utils import train_model_double_objective\n",
        "from models.net2 import Net2\n",
        "\n",
        "model = Net2(50)\n",
        "criterion = nn.BCEWithLogitsLoss()\n",
        "criterion2 = nn.CrossEntropyLoss()\n",
        "eta = 1e-3\n",
        "mini_batch_size = 10\n",
        "optimizer = torch.optim.Adam(model.parameters(), lr = eta)\n",
        "nb_epochs = 10\n",
        "\n",
        "\n",
        "        \n",
        "train_model_double_objective(model, train_input, train_target.float(), \n",
        "                             train_classes, test_input, test_target, \n",
        "                             test_classes, nb_epochs, mini_batch_size, optimizer, \n",
        "                             criterion, criterion2, beta = 1)"
      ],
      "execution_count": 4,
      "outputs": [
        {
          "output_type": "stream",
          "text": [
            "Epoch 0: loss 373.851 / train accuracy 75.6%, test accuracy 75.2\n",
            "Epoch 1: loss 148.153 / train accuracy 82.3%, test accuracy 81.3\n",
            "Epoch 2: loss 100.529 / train accuracy 82.5%, test accuracy 83.2\n",
            "Epoch 3: loss 78.631 / train accuracy 86.5%, test accuracy 85.8\n",
            "Epoch 4: loss 70.650 / train accuracy 89.9%, test accuracy 85.2\n",
            "Epoch 5: loss 54.605 / train accuracy 90.4%, test accuracy 87.3\n",
            "Epoch 6: loss 43.807 / train accuracy 91.6%, test accuracy 86.4\n",
            "Epoch 7: loss 36.914 / train accuracy 92.6%, test accuracy 86.9\n",
            "Epoch 8: loss 28.497 / train accuracy 94.2%, test accuracy 87.8\n",
            "Epoch 9: loss 30.799 / train accuracy 92.8%, test accuracy 88.8\n"
          ],
          "name": "stdout"
        }
      ]
    },
    {
      "cell_type": "code",
      "metadata": {
        "id": "oPc6HE5TA78u"
      },
      "source": [
        "def accuracy_of_digit_class(model, input_, classes, mini_batch_size = 10):\n",
        "  nb_errors = 0\n",
        "  for b in range(0, input_.size(0), mini_batch_size): \n",
        "    _, out1, _ = model(input_.narrow(0, b, mini_batch_size))\n",
        "    _, pred = torch.max(out1, dim=1)\n",
        "    gt = classes.narrow(0, b, mini_batch_size)[:, 0]\n",
        "    nb_errors += (pred != gt).sum().item()\n",
        "  N = input_.shape[0]\n",
        "  return 100*(N-nb_errors)/N"
      ],
      "execution_count": 5,
      "outputs": []
    },
    {
      "cell_type": "code",
      "metadata": {
        "colab": {
          "base_uri": "https://localhost:8080/"
        },
        "id": "JE_of7dpB8e1",
        "outputId": "3ca660c1-9d10-4a6e-e46b-cf6732e2a91f"
      },
      "source": [
        "print(\"Accuracy: {:.2f}\".format(accuracy_of_digit_class(model, test_input, test_classes)))"
      ],
      "execution_count": 6,
      "outputs": [
        {
          "output_type": "stream",
          "text": [
            "Accuracy: 92.90\n"
          ],
          "name": "stdout"
        }
      ]
    }
  ]
}