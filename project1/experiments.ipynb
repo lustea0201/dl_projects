{
 "cells": [
  {
   "cell_type": "code",
   "execution_count": 28,
   "metadata": {
    "colab": {
     "base_uri": "https://localhost:8080/"
    },
    "id": "KFH2Hkok1-eP",
    "outputId": "f5758313-597d-4af2-f742-f6bc42b56393"
   },
   "outputs": [
    {
     "name": "stdout",
     "output_type": "stream",
     "text": [
      "train_input            1000 x 2 x 14 x 14   dtype               \n",
      "train_target                  1000          dtype               \n",
      "train_classes               1000 x 2        dtype               \n",
      "test_input             1000 x 2 x 14 x 14   dtype               \n",
      "test_target                   1000          dtype               \n",
      "test_classes                1000 x 2        dtype               \n"
     ]
    }
   ],
   "source": [
    "from dlc_practical_prologue import generate_pair_sets\n",
    "\n",
    "nSamples = 1000\n",
    "data = generate_pair_sets(nSamples)\n",
    "var_names = [\"train_input\", \"train_target\", \"train_classes\", \"test_input\", \"test_target\", \"test_classes\"]\n",
    "train_input, train_target, train_classes, test_input, test_target, test_classes = data\n",
    "stringWidth = 20\n",
    "for i, el in enumerate(list(map(lambda x: (x.shape, x.dtype), data))):\n",
    "    print('{:s}  {:s}  {:s}'.format(\n",
    "        var_names[i].ljust(stringWidth),\n",
    "        ' x '.join(list(map(lambda x: str(x), list(el[0])))).center(stringWidth), \n",
    "        'dtype'.ljust(stringWidth)))"
   ]
  },
  {
   "cell_type": "code",
   "execution_count": 29,
   "metadata": {
    "colab": {
     "base_uri": "https://localhost:8080/",
     "height": 248
    },
    "id": "2hJioqTe1-ei",
    "outputId": "5c54e86f-929d-4f91-d9ca-ba3c5e0d7858"
   },
   "outputs": [
    {
     "data": {
      "image/png": "[encoded data removed]",
      "text/plain": [
       "<Figure size 864x288 with 1 Axes>"
      ]
     },
     "metadata": {
      "needs_background": "light"
     },
     "output_type": "display_data"
    }
   ],
   "source": [
    "from utils import show_pair\n",
    "\n",
    "show_pair(train_input, train_target, 0)"
   ]
  },
  {
   "cell_type": "markdown",
   "metadata": {
    "id": "2s1fno_F1-ej"
   },
   "source": [
    "## Without using the information from the classes"
   ]
  },
  {
   "cell_type": "code",
   "execution_count": 30,
   "metadata": {
    "colab": {
     "base_uri": "https://localhost:8080/"
    },
    "id": "9Zz45wRp1-ej",
    "outputId": "bb6abc35-3aa8-4585-e8ca-3b64b2f62b9a"
   },
   "outputs": [
    {
     "name": "stdout",
     "output_type": "stream",
     "text": [
      "Epoch 0: loss 7.010 / train accuracy 76.7%, test accuracy 75.4\n",
      "Epoch 1: loss 4.450 / train accuracy 82.4%, test accuracy 78.2\n",
      "Epoch 2: loss 3.610 / train accuracy 84.9%, test accuracy 80.5\n",
      "Epoch 3: loss 2.871 / train accuracy 90.3%, test accuracy 82.0\n",
      "Epoch 4: loss 2.393 / train accuracy 92.4%, test accuracy 83.0\n",
      "Epoch 5: loss 1.874 / train accuracy 95.1%, test accuracy 83.8\n",
      "Epoch 6: loss 1.359 / train accuracy 96.4%, test accuracy 82.7\n",
      "Epoch 7: loss 0.925 / train accuracy 97.0%, test accuracy 82.0\n",
      "Epoch 8: loss 0.783 / train accuracy 97.0%, test accuracy 81.8\n",
      "Epoch 9: loss 0.841 / train accuracy 97.0%, test accuracy 80.6\n"
     ]
    }
   ],
   "source": [
    "from utils import train_model\n",
    "from models.net1 import Net1\n",
    "import torch\n",
    "import torch.nn as nn\n",
    "\n",
    "model = Net1(50)\n",
    "criterion = nn.BCEWithLogitsLoss()\n",
    "eta = 1e-3\n",
    "mini_batch_size = 100\n",
    "optimizer = torch.optim.Adam(model.parameters(), lr = eta)\n",
    "nb_epochs = 10\n",
    "\n",
    "\n",
    "        \n",
    "train_model(model, train_input, train_target.float(), test_input, test_target, nb_epochs, mini_batch_size, optimizer, criterion)"
   ]
  },
  {
   "cell_type": "code",
   "execution_count": 32,
   "metadata": {
    "colab": {
     "base_uri": "https://localhost:8080/"
    },
    "id": "hkd0lSkC1-ek",
    "outputId": "c42a34ef-95a5-4bb3-d90c-22f3d03935a4"
   },
   "outputs": [
    {
     "name": "stdout",
     "output_type": "stream",
     "text": [
      "The model has 29789 trainable parameters\n"
     ]
    }
   ],
   "source": [
    "nParams = sum(p.numel() for p in model.parameters() if p.requires_grad)\n",
    "print('The model has {:d} trainable parameters'.format(nParams))"
   ]
  },
  {
   "cell_type": "code",
   "execution_count": 33,
   "metadata": {
    "colab": {
     "base_uri": "https://localhost:8080/",
     "height": 248
    },
    "id": "yuZbYatM1-ek",
    "outputId": "862b1d5a-7a4c-401c-d779-904322e0c482"
   },
   "outputs": [
    {
     "data": {
      "image/png": "[encoded data removed]",
      "text/plain": [
       "<Figure size 864x288 with 1 Axes>"
      ]
     },
     "metadata": {
      "needs_background": "light"
     },
     "output_type": "display_data"
    }
   ],
   "source": [
    "predictions = model(test_input)\n",
    "show_pair(test_input, predictions, 10)"
   ]
  },
  {
   "cell_type": "markdown",
   "metadata": {
    "id": "fhzU9IT31-el"
   },
   "source": [
    "## With class information during training"
   ]
  },
  {
   "cell_type": "code",
   "execution_count": 34,
   "metadata": {
    "colab": {
     "base_uri": "https://localhost:8080/"
    },
    "id": "Z93tYxwS1-el",
    "outputId": "ea08738c-a1c1-4be7-d173-135d3cd38e40"
   },
   "outputs": [
    {
     "name": "stdout",
     "output_type": "stream",
     "text": [
      "Epoch 0: loss 334.146 / train accuracy 78.1%, test accuracy 77.8\n",
      "Epoch 1: loss 136.891 / train accuracy 83.8%, test accuracy 81.2\n",
      "Epoch 2: loss 94.228 / train accuracy 84.6%, test accuracy 85.8\n",
      "Epoch 3: loss 71.190 / train accuracy 88.3%, test accuracy 85.1\n",
      "Epoch 4: loss 58.713 / train accuracy 89.5%, test accuracy 87.7\n",
      "Epoch 5: loss 47.105 / train accuracy 89.6%, test accuracy 86.9\n",
      "Epoch 6: loss 42.606 / train accuracy 91.5%, test accuracy 87.1\n",
      "Epoch 7: loss 43.334 / train accuracy 92.3%, test accuracy 86.8\n",
      "Epoch 8: loss 40.676 / train accuracy 92.1%, test accuracy 88.5\n",
      "Epoch 9: loss 35.483 / train accuracy 94.4%, test accuracy 87.6\n"
     ]
    }
   ],
   "source": [
    "from utils import train_model_double_objective\n",
    "from models.net2 import Net2\n",
    "\n",
    "model = Net2(50)\n",
    "criterion = nn.BCEWithLogitsLoss()\n",
    "criterion2 = nn.CrossEntropyLoss()\n",
    "eta = 1e-3\n",
    "mini_batch_size = 10\n",
    "optimizer = torch.optim.Adam(model.parameters(), lr = eta)\n",
    "nb_epochs = 10\n",
    "\n",
    "\n",
    "        \n",
    "train_model_double_objective(model, train_input, train_target.float(), \n",
    "                             train_classes, test_input, test_target, \n",
    "                             test_classes, nb_epochs, mini_batch_size, optimizer, \n",
    "                             criterion, criterion2, beta = 1)"
   ]
  },
  {
   "cell_type": "code",
   "execution_count": 35,
   "metadata": {
    "colab": {
     "base_uri": "https://localhost:8080/"
    },
    "id": "JE_of7dpB8e1",
    "outputId": "3ca660c1-9d10-4a6e-e46b-cf6732e2a91f"
   },
   "outputs": [
    {
     "name": "stdout",
     "output_type": "stream",
     "text": [
      "Accuracy: 93.00\n"
     ]
    }
   ],
   "source": [
    "from utils import accuracy_of_digit_class\n",
    "print(\"Accuracy: {:.2f}\".format(accuracy_of_digit_class(model, test_input, test_classes)))"
   ]
  },
  {
   "cell_type": "code",
   "execution_count": 36,
   "metadata": {},
   "outputs": [
    {
     "name": "stdout",
     "output_type": "stream",
     "text": [
      "Accuracy: 91.70\n"
     ]
    }
   ],
   "source": [
    "from models.digit_classifier import DigitClassifier\n",
    "import torch\n",
    "from torch import nn\n",
    "from utils import train_model\n",
    "\n",
    "mini_batch_size = 100\n",
    "model = DigitClassifier(10)\n",
    "\n",
    "optimizer = torch.optim.Adam(model.parameters(), lr = 1e-3)\n",
    "criterion = nn.CrossEntropyLoss()\n",
    "train_in = train_input[:, 0, :, :].unsqueeze(axis = 1)\n",
    "train_class = train_classes[:,0]\n",
    "\n",
    "train_model(model = model, train_input = train_in,\n",
    "            train_target = train_class, test_input = None, test_target = None,\n",
    "            nb_epochs = 20, mini_batch_size = 100, optimizer = optimizer, criterion = criterion, verbose = False)\n",
    "\n",
    "# calculate accuracy\n",
    "test_in = test_input[:, 0, :, :].unsqueeze(axis = 1)\n",
    "\n",
    "nb_errors = 0\n",
    "model.eval()\n",
    "for b in range(0, test_in.size(0), 100):\n",
    "    input_ = test_in.narrow(0, b, mini_batch_size)\n",
    "    output = model(input_)\n",
    "    _, pred = torch.max(output, dim=1)\n",
    "    gt = test_classes[:,0].narrow(0, b, mini_batch_size)\n",
    "    nb_errors += (pred != gt).sum().item()\n",
    "N = test_input.shape[0]\n",
    "print(\"Accuracy: {:.2f}\".format(100*(N-nb_errors)/N))"
   ]
  }
 ],
 "metadata": {
  "colab": {
   "name": "experiments.ipynb",
   "provenance": [],
   "toc_visible": true
  },
  "kernelspec": {
   "display_name": "Python 3",
   "language": "python",
   "name": "python3"
  },
  "language_info": {
   "codemirror_mode": {
    "name": "ipython",
    "version": 3
   },
   "file_extension": ".py",
   "mimetype": "text/x-python",
   "name": "python",
   "nbconvert_exporter": "python",
   "pygments_lexer": "ipython3",
   "version": "3.8.5"
  }
 },
 "nbformat": 4,
 "nbformat_minor": 1
}
