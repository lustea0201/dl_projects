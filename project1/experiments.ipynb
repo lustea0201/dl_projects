{
 "cells": [
  {
   "cell_type": "code",
   "execution_count": 1,
   "metadata": {},
   "outputs": [
    {
     "data": {
      "text/html": [
       "<style>.container { width:70% !important; }</style>"
      ],
      "text/plain": [
       "<IPython.core.display.HTML object>"
      ]
     },
     "metadata": {},
     "output_type": "display_data"
    }
   ],
   "source": [
    "# sets the cells width of current notebook \n",
    "from IPython.core.display import display, HTML\n",
    "display(HTML(\"<style>.container { width:70% !important; }</style>\"))"
   ]
  },
  {
   "cell_type": "code",
   "execution_count": 1,
   "metadata": {},
   "outputs": [],
   "source": [
    "import torch\n",
    "import torch.nn as nn\n",
    "torch.set_printoptions(edgeitems=30, linewidth=100000)"
   ]
  },
  {
   "cell_type": "code",
   "execution_count": 2,
   "metadata": {
    "colab": {
     "base_uri": "https://localhost:8080/"
    },
    "id": "KFH2Hkok1-eP",
    "outputId": "f5758313-597d-4af2-f742-f6bc42b56393"
   },
   "outputs": [
    {
     "name": "stdout",
     "output_type": "stream",
     "text": [
      "train_input            1000 x 2 x 14 x 14   dtype               \n",
      "train_target                  1000          dtype               \n",
      "train_classes               1000 x 2        dtype               \n",
      "test_input             1000 x 2 x 14 x 14   dtype               \n",
      "test_target                   1000          dtype               \n",
      "test_classes                1000 x 2        dtype               \n"
     ]
    }
   ],
   "source": [
    "from dlc_practical_prologue import generate_pair_sets\n",
    "\n",
    "nSamples = 1000\n",
    "data = generate_pair_sets(nSamples)\n",
    "var_names = [\"train_input\", \"train_target\", \"train_classes\", \"test_input\", \"test_target\", \"test_classes\"]\n",
    "train_input, train_target, train_classes, test_input, test_target, test_classes = data\n",
    "stringWidth = 20\n",
    "for i, el in enumerate(list(map(lambda x: (x.shape, x.dtype), data))):\n",
    "    print('{:s}  {:s}  {:s}'.format(\n",
    "        var_names[i].ljust(stringWidth),\n",
    "        ' x '.join(list(map(lambda x: str(x), list(el[0])))).center(stringWidth), \n",
    "        'dtype'.ljust(stringWidth)))"
   ]
  },
  {
   "cell_type": "code",
   "execution_count": 2,
   "metadata": {
    "colab": {
     "base_uri": "https://localhost:8080/",
     "height": 248
    },
    "id": "2hJioqTe1-ei",
    "outputId": "5c54e86f-929d-4f91-d9ca-ba3c5e0d7858"
   },
   "outputs": [
    {
     "data": {
      "image/png": "[encoded data removed]",
      "text/plain": [
       "<Figure size 864x288 with 1 Axes>"
      ]
     },
     "metadata": {
      "needs_background": "light"
     },
     "output_type": "display_data"
    }
   ],
   "source": [
    "from utils import show_pair\n",
    "\n",
    "show_pair(train_input, train_target, 0)"
   ]
  },
  {
   "cell_type": "markdown",
   "metadata": {
    "id": "2s1fno_F1-ej"
   },
   "source": [
    "## Without using the information from the classes"
   ]
  },
  {
   "cell_type": "code",
   "execution_count": 3,
   "metadata": {
    "colab": {
     "base_uri": "https://localhost:8080/"
    },
    "id": "9Zz45wRp1-ej",
    "outputId": "bb6abc35-3aa8-4585-e8ca-3b64b2f62b9a"
   },
   "outputs": [
    {
     "name": "stderr",
     "output_type": "stream",
     "text": [
      "/home/relja/.local/lib/python3.8/site-packages/torch/autograd/__init__.py:145: UserWarning: CUDA initialization: The NVIDIA driver on your system is too old (found version 9010). Please update your GPU driver by downloading and installing a new version from the URL: http://www.nvidia.com/Download/index.aspx Alternatively, go to: https://pytorch.org to install a PyTorch version that has been compiled with your version of the CUDA driver. (Triggered internally at  /pytorch/c10/cuda/CUDAFunctions.cpp:109.)\n",
      "  Variable._execution_engine.run_backward(\n"
     ]
    },
    {
     "name": "stdout",
     "output_type": "stream",
     "text": [
      "Epoch 0: loss 8.856 / train accuracy 76.6%, test accuracy 73.4\n",
      "Epoch 1: loss 5.409 / train accuracy 79.4%, test accuracy 77.0\n",
      "Epoch 2: loss 4.251 / train accuracy 82.0%, test accuracy 80.4\n",
      "Epoch 3: loss 3.957 / train accuracy 85.1%, test accuracy 80.4\n",
      "Epoch 4: loss 3.340 / train accuracy 88.5%, test accuracy 82.4\n",
      "Epoch 5: loss 2.984 / train accuracy 90.5%, test accuracy 83.0\n",
      "Epoch 6: loss 2.520 / train accuracy 91.9%, test accuracy 83.4\n",
      "Epoch 7: loss 2.316 / train accuracy 92.9%, test accuracy 82.7\n",
      "Epoch 8: loss 1.908 / train accuracy 95.0%, test accuracy 84.0\n",
      "Epoch 9: loss 1.694 / train accuracy 97.2%, test accuracy 83.1\n"
     ]
    }
   ],
   "source": [
    "from utils import train_model\n",
    "from models.net1 import Net1\n",
    "\n",
    "model = Net1()\n",
    "criterion = nn.BCEWithLogitsLoss()\n",
    "eta = 1e-3\n",
    "mini_batch_size = 100\n",
    "optimizer = torch.optim.Adam(model.parameters(), lr = eta)\n",
    "nb_epochs = 10\n",
    "\n",
    "\n",
    "        \n",
    "train_model(model, train_input, train_target.float(), test_input, test_target, nb_epochs, mini_batch_size, optimizer, criterion)"
   ]
  },
  {
   "cell_type": "code",
   "execution_count": 4,
   "metadata": {
    "colab": {
     "base_uri": "https://localhost:8080/"
    },
    "id": "hkd0lSkC1-ek",
    "outputId": "c42a34ef-95a5-4bb3-d90c-22f3d03935a4"
   },
   "outputs": [
    {
     "name": "stdout",
     "output_type": "stream",
     "text": [
      "The model has 24425 trainable parameters\n"
     ]
    }
   ],
   "source": [
    "from utils import num_of_train_param\n",
    "num_of_train_param(model)"
   ]
  },
  {
   "cell_type": "code",
   "execution_count": 14,
   "metadata": {
    "colab": {
     "base_uri": "https://localhost:8080/",
     "height": 248
    },
    "id": "yuZbYatM1-ek",
    "outputId": "862b1d5a-7a4c-401c-d779-904322e0c482"
   },
   "outputs": [
    {
     "data": {
      "image/png": "[encoded data removed]",
      "text/plain": [
       "<Figure size 864x288 with 1 Axes>"
      ]
     },
     "metadata": {
      "needs_background": "light"
     },
     "output_type": "display_data"
    }
   ],
   "source": [
    "predictions = model(test_input)\n",
    "show_pair(test_input, predictions, 10)"
   ]
  },
  {
   "cell_type": "markdown",
   "metadata": {
    "id": "fhzU9IT31-el"
   },
   "source": [
    "## With class information during training"
   ]
  },
  {
   "cell_type": "code",
   "execution_count": 5,
   "metadata": {
    "colab": {
     "base_uri": "https://localhost:8080/"
    },
    "id": "Z93tYxwS1-el",
    "outputId": "ea08738c-a1c1-4be7-d173-135d3cd38e40"
   },
   "outputs": [
    {
     "name": "stdout",
     "output_type": "stream",
     "text": [
      "Epoch 0: loss 339.568 / train accuracy 79.4%, test accuracy 75.0\n",
      "Epoch 1: loss 145.611 / train accuracy 85.1%, test accuracy 80.4\n",
      "Epoch 2: loss 105.327 / train accuracy 86.7%, test accuracy 83.4\n",
      "Epoch 3: loss 86.724 / train accuracy 90.2%, test accuracy 86.0\n",
      "Epoch 4: loss 62.295 / train accuracy 91.5%, test accuracy 86.8\n",
      "Epoch 5: loss 62.337 / train accuracy 93.3%, test accuracy 88.8\n",
      "Epoch 6: loss 49.523 / train accuracy 93.6%, test accuracy 88.9\n",
      "Epoch 7: loss 50.271 / train accuracy 93.0%, test accuracy 88.2\n",
      "Epoch 8: loss 35.405 / train accuracy 96.1%, test accuracy 90.1\n",
      "Epoch 9: loss 35.985 / train accuracy 96.5%, test accuracy 89.8\n"
     ]
    }
   ],
   "source": [
    "from utils import train_model_double_objective\n",
    "from models.net2 import Net2\n",
    "\n",
    "model = Net2()\n",
    "criterion = nn.BCEWithLogitsLoss()\n",
    "criterion2 = nn.CrossEntropyLoss()\n",
    "eta = 1e-3\n",
    "mini_batch_size = 10\n",
    "optimizer = torch.optim.Adam(model.parameters(), lr = eta)\n",
    "nb_epochs = 10\n",
    "        \n",
    "train_model_double_objective(model, train_input, train_target.float(), \n",
    "                             train_classes, test_input, test_target, \n",
    "                             test_classes, nb_epochs, mini_batch_size, optimizer, \n",
    "                             criterion, criterion2, beta = 1)"
   ]
  },
  {
   "cell_type": "code",
   "execution_count": 6,
   "metadata": {
    "colab": {
     "base_uri": "https://localhost:8080/"
    },
    "id": "JE_of7dpB8e1",
    "outputId": "3ca660c1-9d10-4a6e-e46b-cf6732e2a91f"
   },
   "outputs": [
    {
     "name": "stdout",
     "output_type": "stream",
     "text": [
      "Accuracy: 93.90\n"
     ]
    }
   ],
   "source": [
    "from utils import accuracy_of_digit_class\n",
    "print(\"Accuracy: {:.2f}\".format(accuracy_of_digit_class(model, test_input, test_classes)))"
   ]
  },
  {
   "cell_type": "markdown",
   "metadata": {},
   "source": [
    "## Net2 with pretrained digit classifier"
   ]
  },
  {
   "cell_type": "code",
   "execution_count": 5,
   "metadata": {},
   "outputs": [
    {
     "name": "stdout",
     "output_type": "stream",
     "text": [
      "Epoch 0: loss 27.917 / train accuracy 32.8%, test accuracy 29.0\n",
      "Epoch 1: loss 17.779 / train accuracy 55.6%, test accuracy 53.2\n",
      "Epoch 2: loss 12.619 / train accuracy 73.7%, test accuracy 70.2\n",
      "Epoch 3: loss 9.301 / train accuracy 80.3%, test accuracy 78.8\n",
      "Epoch 4: loss 7.022 / train accuracy 85.0%, test accuracy 83.6\n",
      "Epoch 5: loss 5.431 / train accuracy 86.7%, test accuracy 84.6\n",
      "Epoch 6: loss 4.527 / train accuracy 92.2%, test accuracy 88.6\n",
      "Epoch 7: loss 3.857 / train accuracy 94.5%, test accuracy 90.5\n",
      "Epoch 8: loss 2.836 / train accuracy 94.9%, test accuracy 90.2\n",
      "Epoch 9: loss 2.274 / train accuracy 95.8%, test accuracy 91.9\n",
      "Epoch 10: loss 1.933 / train accuracy 97.3%, test accuracy 93.5\n",
      "Epoch 11: loss 1.556 / train accuracy 97.8%, test accuracy 92.8\n",
      "Epoch 12: loss 1.314 / train accuracy 98.6%, test accuracy 93.6\n",
      "Epoch 13: loss 1.029 / train accuracy 99.1%, test accuracy 93.2\n",
      "Epoch 14: loss 0.923 / train accuracy 99.4%, test accuracy 92.8\n",
      "Epoch 15: loss 0.678 / train accuracy 99.5%, test accuracy 92.6\n",
      "Epoch 16: loss 0.653 / train accuracy 100.0%, test accuracy 93.6\n",
      "Epoch 17: loss 0.422 / train accuracy 100.0%, test accuracy 93.9\n",
      "Epoch 18: loss 0.475 / train accuracy 99.9%, test accuracy 93.9\n",
      "Epoch 19: loss 0.377 / train accuracy 100.0%, test accuracy 93.8\n"
     ]
    }
   ],
   "source": [
    "from models.digit_classifier import DigitClassifier\n",
    "import torch\n",
    "from torch import nn\n",
    "from utils import train_model\n",
    "\n",
    "mini_batch_size = 100\n",
    "model_classifier = DigitClassifier(out_h = 10, subnet = False)\n",
    "\n",
    "optimizer = torch.optim.Adam(model_classifier.parameters(), lr = 1e-3)\n",
    "criterion = nn.CrossEntropyLoss()\n",
    "train_in = train_input[:, 0, :, :].unsqueeze(axis = 1)\n",
    "train_class = train_classes[:,0]\n",
    "test_in = test_input[:, 0, :, :].unsqueeze(axis = 1)\n",
    "test_class = test_classes[:,0]\n",
    "\n",
    "train_model(model = model_classifier, \n",
    "            train_input = train_in, train_target = train_class,\n",
    "            test_input = test_in, test_target = test_class,\n",
    "            nb_epochs = 20, mini_batch_size = 100, \n",
    "            optimizer = optimizer, criterion = criterion,\n",
    "            verbose = True)"
   ]
  },
  {
   "cell_type": "code",
   "execution_count": 3,
   "metadata": {},
   "outputs": [
    {
     "name": "stdout",
     "output_type": "stream",
     "text": [
      "Epoch 0: loss 176.738 / train accuracy 62.8%, test accuracy 64.5\n",
      "Epoch 1: loss 132.376 / train accuracy 72.3%, test accuracy 72.6\n",
      "Epoch 2: loss 116.140 / train accuracy 77.2%, test accuracy 78.8\n",
      "Epoch 3: loss 98.076 / train accuracy 80.6%, test accuracy 82.2\n",
      "Epoch 4: loss 91.530 / train accuracy 82.7%, test accuracy 82.8\n",
      "Epoch 5: loss 93.823 / train accuracy 83.1%, test accuracy 83.9\n",
      "Epoch 6: loss 89.465 / train accuracy 82.8%, test accuracy 83.1\n",
      "Epoch 7: loss 91.276 / train accuracy 83.2%, test accuracy 83.7\n",
      "Epoch 8: loss 89.468 / train accuracy 83.0%, test accuracy 82.7\n",
      "Epoch 9: loss 88.721 / train accuracy 83.0%, test accuracy 83.6\n"
     ]
    }
   ],
   "source": [
    "from utils import train_model_double_objective\n",
    "from utils import dfs_freeze\n",
    "from models.net2 import Net2\n",
    "\n",
    "dfs_freeze(model_classifier)\n",
    "model = Net2(model_classifier)\n",
    "criterion = nn.BCEWithLogitsLoss()\n",
    "criterion2 = nn.CrossEntropyLoss()\n",
    "eta = 1e-3\n",
    "mini_batch_size = 10\n",
    "optimizer = torch.optim.Adam(filter(lambda p: p.requires_grad, model.parameters()), lr=eta)\n",
    "nb_epochs = 10\n",
    "        \n",
    "train_model_double_objective(model, train_input, train_target.float(), \n",
    "                             train_classes, test_input, test_target, \n",
    "                             test_classes, nb_epochs, mini_batch_size, optimizer, \n",
    "                             criterion, criterion2, beta = 1)"
   ]
  },
  {
   "cell_type": "code",
   "execution_count": 4,
   "metadata": {},
   "outputs": [
    {
     "name": "stdout",
     "output_type": "stream",
     "text": [
      "Accuracy: 91.80\n"
     ]
    }
   ],
   "source": [
    "from utils import accuracy_of_digit_class\n",
    "print(\"Accuracy: {:.2f}\".format(accuracy_of_digit_class(model, test_input, test_classes)))"
   ]
  },
  {
   "cell_type": "code",
   "execution_count": 5,
   "metadata": {},
   "outputs": [
    {
     "name": "stdout",
     "output_type": "stream",
     "text": [
      "The model has 11 trainable parameters\n"
     ]
    }
   ],
   "source": [
    "from utils import num_of_train_param\n",
    "num_of_train_param(model)"
   ]
  },
  {
   "cell_type": "markdown",
   "metadata": {},
   "source": [
    "## Simple convolutional network"
   ]
  },
  {
   "cell_type": "code",
   "execution_count": 5,
   "metadata": {},
   "outputs": [
    {
     "data": {
      "image/png": "[encoded data removed]",
      "text/plain": [
       "<Figure size 504x504 with 1 Axes>"
      ]
     },
     "metadata": {
      "needs_background": "light"
     },
     "output_type": "display_data"
    }
   ],
   "source": [
    "from models.convnet import ConvNet\n",
    "from utils import train_model\n",
    "from utils import visualize_accuracy\n",
    "from dlc_practical_prologue import generate_pair_sets\n",
    "\n",
    "nSamples = 1000\n",
    "#optimizer = torch.optim.SGD(model.parameters(), lr = 1e-2)\n",
    "nb_epochs = 20\n",
    "mini_batch_size = 100\n",
    "\n",
    "nb_iter = 150\n",
    "train_accuracies, test_accuracies, train_losses = [], [], []\n",
    "for i in range(nb_iter):\n",
    "    \n",
    "    model = ConvNet(nb_channels=48, kernel_size=3, weight_sharing=False)\n",
    "    optimizer = torch.optim.Adam(model.parameters(), lr = 1e-3)\n",
    "    criterion = nn.BCELoss()            \n",
    "        \n",
    "    train_input, train_target, train_classes, test_input, test_target, test_classes = generate_pair_sets(nSamples)\n",
    "    # input size is 16 x 16 (power of 2, so that it can be run through 3 max-pool layers)\n",
    "    train_input_cnn = torch.nn.functional.pad(train_input, (1, 1, 1, 1), 'constant', 0)\n",
    "    test_input_cnn = torch.nn.functional.pad(test_input, (1, 1, 1, 1), 'constant', 0)\n",
    "    train_accuracy, test_accuracy, train_loss = train_model(model, \n",
    "                                            train_input_cnn, train_target.float(),\n",
    "                                            test_input_cnn, test_target,\n",
    "                                            nb_epochs, mini_batch_size,\n",
    "                                            optimizer, criterion)\n",
    "    train_accuracies.append(train_accuracy)\n",
    "    test_accuracies.append(test_accuracy)\n",
    "    train_losses.append(train_loss)\n",
    "\n",
    "visualize_accuracy(train_accuracies, test_accuracies, train_losses)"
   ]
  },
  {
   "cell_type": "code",
   "execution_count": 7,
   "metadata": {},
   "outputs": [
    {
     "name": "stdout",
     "output_type": "stream",
     "text": [
      "The model has 117265 trainable parameters\n"
     ]
    }
   ],
   "source": [
    "from utils import num_of_train_param\n",
    "num_of_train_param(model)"
   ]
  }
 ],
 "metadata": {
  "colab": {
   "name": "experiments.ipynb",
   "provenance": [],
   "toc_visible": true
  },
  "kernelspec": {
   "display_name": "Python 3",
   "language": "python",
   "name": "python3"
  },
  "language_info": {
   "codemirror_mode": {
    "name": "ipython",
    "version": 3
   },
   "file_extension": ".py",
   "mimetype": "text/x-python",
   "name": "python",
   "nbconvert_exporter": "python",
   "pygments_lexer": "ipython3",
   "version": "3.8.5"
  }
 },
 "nbformat": 4,
 "nbformat_minor": 1
}
