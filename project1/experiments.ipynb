{
 "cells": [
  {
   "cell_type": "code",
   "execution_count": 1,
   "metadata": {},
   "outputs": [
    {
     "name": "stdout",
     "output_type": "stream",
     "text": [
      "train_input            1000 x 2 x 14 x 14   dtype               \n",
      "train_target                  1000          dtype               \n",
      "train_classes               1000 x 2        dtype               \n",
      "test_input             1000 x 2 x 14 x 14   dtype               \n",
      "test_target                   1000          dtype               \n",
      "test_classes                1000 x 2        dtype               \n"
     ]
    }
   ],
   "source": [
    "from dlc_practical_prologue import generate_pair_sets\n",
    "\n",
    "nSamples = 1000\n",
    "data = generate_pair_sets(nSamples)\n",
    "var_names = [\"train_input\", \"train_target\", \"train_classes\", \"test_input\", \"test_target\", \"test_classes\"]\n",
    "train_input, train_target, train_classes, test_input, test_target, test_classes = data\n",
    "stringWidth = 20\n",
    "for i, el in enumerate(list(map(lambda x: (x.shape, x.dtype), data))):\n",
    "    print('{:s}  {:s}  {:s}'.format(\n",
    "        var_names[i].ljust(stringWidth),\n",
    "        ' x '.join(list(map(lambda x: str(x), list(el[0])))).center(stringWidth), \n",
    "        'dtype'.ljust(stringWidth)))"
   ]
  },
  {
   "cell_type": "code",
   "execution_count": 2,
   "metadata": {},
   "outputs": [
    {
     "data": {
      "image/png": "[encoded data removed]",
      "text/plain": [
       "<Figure size 864x288 with 1 Axes>"
      ]
     },
     "metadata": {
      "needs_background": "light"
     },
     "output_type": "display_data"
    }
   ],
   "source": [
    "from utils import show_pair\n",
    "\n",
    "show_pair(train_input, train_target, 0)"
   ]
  },
  {
   "cell_type": "markdown",
   "metadata": {},
   "source": [
    "## Without using the information from the classes"
   ]
  },
  {
   "cell_type": "code",
   "execution_count": 15,
   "metadata": {},
   "outputs": [
    {
     "name": "stdout",
     "output_type": "stream",
     "text": [
      "Epoch 0: loss 8.620 / train accuracy 72.2%, test accuracy 72.7\n",
      "Epoch 1: loss 5.137 / train accuracy 79.5%, test accuracy 76.4\n",
      "Epoch 2: loss 4.143 / train accuracy 83.3%, test accuracy 79.8\n",
      "Epoch 3: loss 3.645 / train accuracy 85.8%, test accuracy 80.7\n",
      "Epoch 4: loss 3.274 / train accuracy 88.1%, test accuracy 82.5\n",
      "Epoch 5: loss 2.653 / train accuracy 91.5%, test accuracy 83.5\n",
      "Epoch 6: loss 2.161 / train accuracy 92.5%, test accuracy 83.7\n",
      "Epoch 7: loss 1.780 / train accuracy 95.7%, test accuracy 83.4\n",
      "Epoch 8: loss 1.502 / train accuracy 95.3%, test accuracy 83.1\n",
      "Epoch 9: loss 1.400 / train accuracy 97.1%, test accuracy 83.6\n"
     ]
    }
   ],
   "source": [
    "from utils import Net1, train_model \n",
    "import torch\n",
    "import torch.nn as nn\n",
    "\n",
    "model = Net1(50)\n",
    "criterion = nn.BCEWithLogitsLoss()\n",
    "eta = 1e-3\n",
    "mini_batch_size = 100\n",
    "optimizer = torch.optim.Adam(model.parameters(), lr = eta)\n",
    "nb_epochs = 10\n",
    "\n",
    "\n",
    "        \n",
    "train_model(model, train_input, train_target.float(), test_input, test_target, nb_epochs, mini_batch_size, optimizer, criterion)"
   ]
  },
  {
   "cell_type": "code",
   "execution_count": 10,
   "metadata": {},
   "outputs": [
    {
     "name": "stdout",
     "output_type": "stream",
     "text": [
      "The model has 74489 trainable parameters\n"
     ]
    }
   ],
   "source": [
    "nParams = sum(p.numel() for p in model.parameters() if p.requires_grad)\n",
    "print('The model has {:d} trainable parameters'.format(nParams))"
   ]
  },
  {
   "cell_type": "code",
   "execution_count": 11,
   "metadata": {},
   "outputs": [
    {
     "data": {
      "image/png": "[encoded data removed]",
      "text/plain": [
       "<Figure size 864x288 with 1 Axes>"
      ]
     },
     "metadata": {
      "needs_background": "light"
     },
     "output_type": "display_data"
    }
   ],
   "source": [
    "predictions = model(test_input)\n",
    "show_pair(test_input, predictions, 10)"
   ]
  },
  {
   "cell_type": "markdown",
   "metadata": {},
   "source": [
    "## With class information during training"
   ]
  },
  {
   "cell_type": "code",
   "execution_count": 14,
   "metadata": {},
   "outputs": [
    {
     "name": "stdout",
     "output_type": "stream",
     "text": [
      "Epoch 0: loss 429.615 / train accuracy 76.2%, test accuracy 74.4\n",
      "Epoch 1: loss 189.136 / train accuracy 78.4%, test accuracy 77.9\n",
      "Epoch 2: loss 126.880 / train accuracy 84.3%, test accuracy 83.3\n",
      "Epoch 3: loss 91.325 / train accuracy 84.3%, test accuracy 83.1\n",
      "Epoch 4: loss 77.909 / train accuracy 87.1%, test accuracy 84.7\n",
      "Epoch 5: loss 66.689 / train accuracy 88.1%, test accuracy 86.3\n",
      "Epoch 6: loss 66.021 / train accuracy 89.3%, test accuracy 86.2\n",
      "Epoch 7: loss 52.670 / train accuracy 91.1%, test accuracy 87.0\n",
      "Epoch 8: loss 48.462 / train accuracy 92.1%, test accuracy 88.4\n",
      "Epoch 9: loss 47.032 / train accuracy 90.6%, test accuracy 88.9\n"
     ]
    }
   ],
   "source": [
    "from utils import Net2, train_model_double_objective\n",
    "\n",
    "model = Net2(50)\n",
    "criterion = nn.BCEWithLogitsLoss()\n",
    "criterion2 = nn.CrossEntropyLoss()\n",
    "eta = 1e-3\n",
    "mini_batch_size = 10\n",
    "optimizer = torch.optim.Adam(model.parameters(), lr = eta)\n",
    "nb_epochs = 10\n",
    "\n",
    "\n",
    "        \n",
    "train_model_double_objective(model, train_input, train_target.float(), \n",
    "                             train_classes, test_input, test_target, \n",
    "                             test_classes, nb_epochs, mini_batch_size, optimizer, \n",
    "                             criterion, criterion2, beta = 1)"
   ]
  }
 ],
 "metadata": {
  "kernelspec": {
   "display_name": "Python 3",
   "language": "python",
   "name": "python3"
  },
  "language_info": {
   "codemirror_mode": {
    "name": "ipython",
    "version": 3
   },
   "file_extension": ".py",
   "mimetype": "text/x-python",
   "name": "python",
   "nbconvert_exporter": "python",
   "pygments_lexer": "ipython3",
   "version": "3.8.8"
  }
 },
 "nbformat": 4,
 "nbformat_minor": 4
}
