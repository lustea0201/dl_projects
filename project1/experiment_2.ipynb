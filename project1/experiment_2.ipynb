{
  "nbformat": 4,
  "nbformat_minor": 0,
  "metadata": {
    "colab": {
      "name": "project_1.ipynb",
      "provenance": [],
      "authorship_tag": "ABX9TyPMyxmiyWOQ9ueFF4ivT46o",
      "include_colab_link": true
    },
    "kernelspec": {
      "name": "python3",
      "display_name": "Python 3"
    },
    "language_info": {
      "name": "python"
    }
  },
  "cells": [
    {
      "cell_type": "markdown",
      "metadata": {
        "id": "view-in-github",
        "colab_type": "text"
      },
      "source": [
        "<a href=\"https://colab.research.google.com/github/reljadev/DeepLearning/blob/main/project_1.ipynb\" target=\"_parent\"><img src=\"https://colab.research.google.com/assets/colab-badge.svg\" alt=\"Open In Colab\"/></a>"
      ]
    },
    {
      "cell_type": "code",
      "metadata": {
        "id": "7yLWBi5TWg3_"
      },
      "source": [
        "import torch\n",
        "from torch import nn\n",
        "from torch import optim\n",
        "from torch import Tensor\n",
        "import dlc_practical_prologue as prologue"
      ],
      "execution_count": 20,
      "outputs": []
    },
    {
      "cell_type": "code",
      "metadata": {
        "id": "0CA4a9hsbLaA"
      },
      "source": [
        "class ConvNet(nn.Module):\n",
        "\n",
        "  def __init__(self, nb_channels, kernel_size = 3):\n",
        "    super().__init__()\n",
        "    self.nb_channels = nb_channels\n",
        "\n",
        "    # 2 x 14 x 14\n",
        "    self.conv1 = nn.Conv2d(in_channels=2, \n",
        "                           out_channels=nb_channels,\n",
        "                           kernel_size=kernel_size,\n",
        "                           padding = (kernel_size - 1) // 2)\n",
        "    # nb_channels x 14 x 14\n",
        "    self.bn1 = nn.BatchNorm2d(nb_channels)\n",
        "    # nb_channels x 14 x 14\n",
        "    self.pool1 = nn.MaxPool2d(kernel_size=2)\n",
        "\n",
        "    # nb_channels x 7 x 7\n",
        "    self.lin1 = nn.Linear(in_features=nb_channels*7*7,\n",
        "                          out_features=1024\n",
        "                         )\n",
        "    # 1024\n",
        "    self.lin2 = nn.Linear(in_features=1024,\n",
        "                          out_features=1\n",
        "                         )\n",
        "    self.relu = nn.ReLU()\n",
        "    self.sigmoid = nn.Sigmoid()\n",
        "  \n",
        "\n",
        "  def forward(self, x):\n",
        "    x = self.pool1(self.bn1(self.conv1(x)))\n",
        "    x = x.view(-1, self.nb_channels*7*7)\n",
        "    x = self.relu(self.lin1(x))\n",
        "    x = self.sigmoid(self.lin2(x))\n",
        "    if not self.training:\n",
        "      x = 1 * (x > 0.5)\n",
        "\n",
        "    return x.view(-1)"
      ],
      "execution_count": 59,
      "outputs": []
    },
    {
      "cell_type": "code",
      "metadata": {
        "id": "yTvOJI6EZyN3"
      },
      "source": [
        "def train_model(model, train_input, train_target):\n",
        "    criterion = nn.BCELoss()\n",
        "    optimizer = optim.SGD(model.parameters(), lr = 1e-1)\n",
        "    nb_epochs = 20\n",
        "    mini_batch_size = 100\n",
        "\n",
        "    model.train()\n",
        "    for e in range(nb_epochs):\n",
        "        for b in range(0, train_input.size(0), mini_batch_size):\n",
        "            output = model(train_input.narrow(0, b, mini_batch_size))\n",
        "            target = train_target.narrow(0, b, mini_batch_size).float()\n",
        "            loss = criterion(output, target)\n",
        "            model.zero_grad()\n",
        "            loss.backward()\n",
        "            optimizer.step()"
      ],
      "execution_count": 58,
      "outputs": []
    },
    {
      "cell_type": "code",
      "metadata": {
        "id": "XrQhrFecmujw"
      },
      "source": [
        "def compute_nb_errors(model, data_input, data_target):\n",
        "  nb_data_errors = 0\n",
        "  mini_batch_size = 100\n",
        "\n",
        "  model.eval()\n",
        "  for b in range(0, data_input.size(0), mini_batch_size):\n",
        "    input = data_input.narrow(0, b, mini_batch_size)\n",
        "    output = model(input)\n",
        "    target = data_target.narrow(0, b, mini_batch_size)\n",
        "    nb_data_errors += torch.sum(torch.abs(output - target))\n",
        "\n",
        "  return nb_data_errors"
      ],
      "execution_count": 52,
      "outputs": []
    },
    {
      "cell_type": "code",
      "metadata": {
        "id": "EobCHDn2WkVJ"
      },
      "source": [
        "train_input, train_target, train_classes, test_input, test_target, test_classes = prologue.generate_pair_sets(nb=1000)"
      ],
      "execution_count": 4,
      "outputs": []
    },
    {
      "cell_type": "code",
      "metadata": {
        "colab": {
          "base_uri": "https://localhost:8080/"
        },
        "id": "cny0NNJkmPgw",
        "outputId": "81cc8fba-b195-4f0f-8e39-777ba400d0e3"
      },
      "source": [
        "model = ConvNet(nb_channels=32, kernel_size=3)\n",
        "train_model(model, train_input, train_target)\n",
        "print(\"Error: {:.2f}%\".format((compute_nb_errors(model, test_input, test_target) / 1000).item() * 100))"
      ],
      "execution_count": 63,
      "outputs": [
        {
          "output_type": "stream",
          "text": [
            "Error: 17.60%\n"
          ],
          "name": "stdout"
        }
      ]
    }
  ]
}