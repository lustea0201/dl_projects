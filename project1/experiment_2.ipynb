{
 "cells": [
  {
   "cell_type": "markdown",
   "metadata": {
    "colab_type": "text",
    "id": "view-in-github"
   },
   "source": [
    "<a href=\"https://colab.research.google.com/github/reljadev/DeepLearning/blob/main/project_1.ipynb\" target=\"_parent\"><img src=\"https://colab.research.google.com/assets/colab-badge.svg\" alt=\"Open In Colab\"/></a>"
   ]
  },
  {
   "cell_type": "code",
   "execution_count": 6,
   "metadata": {
    "id": "7yLWBi5TWg3_"
   },
   "outputs": [],
   "source": [
    "import torch\n",
    "from torch import nn\n",
    "from torch import optim\n",
    "from torch import Tensor\n",
    "import dlc_practical_prologue as prologue"
   ]
  },
  {
   "cell_type": "code",
   "execution_count": 7,
   "metadata": {
    "id": "yTvOJI6EZyN3"
   },
   "outputs": [],
   "source": [
    "def train_model(model, train_input, train_target):\n",
    "    criterion = nn.BCELoss()\n",
    "    optimizer = optim.SGD(model.parameters(), lr = 1e-1)\n",
    "    nb_epochs = 20\n",
    "    mini_batch_size = 100\n",
    "\n",
    "    model.train()\n",
    "    for e in range(nb_epochs):\n",
    "        for b in range(0, train_input.size(0), mini_batch_size):\n",
    "            output = model(train_input.narrow(0, b, mini_batch_size))\n",
    "            target = train_target.narrow(0, b, mini_batch_size).float()\n",
    "            loss = criterion(output, target)\n",
    "            model.zero_grad()\n",
    "            loss.backward()\n",
    "            optimizer.step()"
   ]
  },
  {
   "cell_type": "code",
   "execution_count": 8,
   "metadata": {
    "id": "XrQhrFecmujw"
   },
   "outputs": [],
   "source": [
    "def compute_nb_errors(model, data_input, data_target):\n",
    "  nb_data_errors = 0\n",
    "  mini_batch_size = 100\n",
    "\n",
    "  model.eval()\n",
    "  for b in range(0, data_input.size(0), mini_batch_size):\n",
    "    input = data_input.narrow(0, b, mini_batch_size)\n",
    "    output = model(input)\n",
    "    target = data_target.narrow(0, b, mini_batch_size)\n",
    "    nb_data_errors += torch.sum(torch.abs(output - target))\n",
    "\n",
    "  return nb_data_errors"
   ]
  },
  {
   "cell_type": "code",
   "execution_count": 9,
   "metadata": {
    "id": "EobCHDn2WkVJ"
   },
   "outputs": [],
   "source": [
    "train_input, train_target, train_classes, test_input, test_target, test_classes = prologue.generate_pair_sets(nb=1000)"
   ]
  },
  {
   "cell_type": "code",
   "execution_count": 11,
   "metadata": {
    "colab": {
     "base_uri": "https://localhost:8080/"
    },
    "id": "cny0NNJkmPgw",
    "outputId": "81cc8fba-b195-4f0f-8e39-777ba400d0e3"
   },
   "outputs": [
    {
     "name": "stdout",
     "output_type": "stream",
     "text": [
      "Error: 19.90%\n"
     ]
    }
   ],
   "source": [
    "from models.convnet import ConvNet\n",
    "model = ConvNet(nb_channels=32, kernel_size=3)\n",
    "train_model(model, train_input, train_target)\n",
    "print(\"Error: {:.2f}%\".format((compute_nb_errors(model, test_input, test_target) / 1000).item() * 100))"
   ]
  }
 ],
 "metadata": {
  "colab": {
   "authorship_tag": "ABX9TyPMyxmiyWOQ9ueFF4ivT46o",
   "include_colab_link": true,
   "name": "project_1.ipynb",
   "provenance": []
  },
  "kernelspec": {
   "display_name": "Python 3",
   "language": "python",
   "name": "python3"
  },
  "language_info": {
   "codemirror_mode": {
    "name": "ipython",
    "version": 3
   },
   "file_extension": ".py",
   "mimetype": "text/x-python",
   "name": "python",
   "nbconvert_exporter": "python",
   "pygments_lexer": "ipython3",
   "version": "3.8.5"
  }
 },
 "nbformat": 4,
 "nbformat_minor": 1
}
